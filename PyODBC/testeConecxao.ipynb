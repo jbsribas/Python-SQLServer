{
  "nbformat": 4,
  "nbformat_minor": 0,
  "metadata": {
    "colab": {
      "provenance": []
    },
    "kernelspec": {
      "name": "python3",
      "display_name": "Python 3"
    },
    "language_info": {
      "name": "python"
    }
  },
  "cells": [
    {
      "cell_type": "code",
      "source": [
        "# instalar pacotes noo google colaborate\n"
      ],
      "metadata": {
        "id": "f8fn9--OluBW"
      },
      "execution_count": null,
      "outputs": []
    },
    {
      "cell_type": "code",
      "execution_count": null,
      "metadata": {
        "colab": {
          "base_uri": "https://localhost:8080/"
        },
        "id": "iZsj7QZTlrj7",
        "outputId": "3db1be72-01f2-4ca9-ad1d-b18b56b92157"
      },
      "outputs": [
        {
          "output_type": "stream",
          "name": "stdout",
          "text": [
            "\u001b[?25l     \u001b[90m━━━━━━━━━━━━━━━━━━━━━━━━━━━━━━━━━━━━━━━━\u001b[0m \u001b[32m0.0/232.6 kB\u001b[0m \u001b[31m?\u001b[0m eta \u001b[36m-:--:--\u001b[0m\r\u001b[2K     \u001b[91m━━━━━━\u001b[0m\u001b[91m╸\u001b[0m\u001b[90m━━━━━━━━━━━━━━━━━━━━━━━━━━━━━━━\u001b[0m \u001b[32m41.0/232.6 kB\u001b[0m \u001b[31m971.7 kB/s\u001b[0m eta \u001b[36m0:00:01\u001b[0m\r\u001b[2K     \u001b[91m━━━━━━━━━━━━━━━━━━━━━━━━━━━━━━━━━━━━━\u001b[0m\u001b[91m╸\u001b[0m\u001b[90m━\u001b[0m \u001b[32m225.3/232.6 kB\u001b[0m \u001b[31m3.5 MB/s\u001b[0m eta \u001b[36m0:00:01\u001b[0m\r\u001b[2K     \u001b[90m━━━━━━━━━━━━━━━━━━━━━━━━━━━━━━━━━━━━━━━\u001b[0m \u001b[32m232.6/232.6 kB\u001b[0m \u001b[31m3.0 MB/s\u001b[0m eta \u001b[36m0:00:00\u001b[0m\n",
            "\u001b[?25h"
          ]
        }
      ],
      "source": [
        "!pip install pypdf2 -q"
      ]
    },
    {
      "cell_type": "code",
      "source": [
        "!pip install tika -q"
      ],
      "metadata": {
        "id": "pue3k-KcnToY"
      },
      "execution_count": null,
      "outputs": []
    },
    {
      "cell_type": "code",
      "source": [
        "! pip install pdfplumber -q"
      ],
      "metadata": {
        "colab": {
          "base_uri": "https://localhost:8080/"
        },
        "id": "pHjwr9vjpCzo",
        "outputId": "97f9b068-80d1-4091-eb19-93ff86b7cb3e"
      },
      "execution_count": null,
      "outputs": [
        {
          "output_type": "stream",
          "name": "stdout",
          "text": [
            "\u001b[2K     \u001b[90m━━━━━━━━━━━━━━━━━━━━━━━━━━━━━━━━━━━━━━━━\u001b[0m \u001b[32m47.5/47.5 kB\u001b[0m \u001b[31m1.2 MB/s\u001b[0m eta \u001b[36m0:00:00\u001b[0m\n",
            "\u001b[2K     \u001b[90m━━━━━━━━━━━━━━━━━━━━━━━━━━━━━━━━━━━━━━━━\u001b[0m \u001b[32m5.6/5.6 MB\u001b[0m \u001b[31m41.9 MB/s\u001b[0m eta \u001b[36m0:00:00\u001b[0m\n",
            "\u001b[2K     \u001b[90m━━━━━━━━━━━━━━━━━━━━━━━━━━━━━━━━━━━━━━━━\u001b[0m \u001b[32m2.9/2.9 MB\u001b[0m \u001b[31m78.7 MB/s\u001b[0m eta \u001b[36m0:00:00\u001b[0m\n",
            "\u001b[?25h"
          ]
        }
      ]
    },
    {
      "cell_type": "code",
      "source": [
        "!pip install pyodbc\n",
        "!pip install sqlserverport\n",
        "!sudo apt-get install unixodbc-dev\n",
        "!pip install pyodbc\n",
        "!pip install chart_studio\n"
      ],
      "metadata": {
        "id": "nNpeKkaepIur",
        "colab": {
          "base_uri": "https://localhost:8080/"
        },
        "outputId": "5d1aac6e-00de-4589-db47-48b156ed5314"
      },
      "execution_count": null,
      "outputs": [
        {
          "output_type": "stream",
          "name": "stdout",
          "text": [
            "Collecting pyodbc\n",
            "  Downloading pyodbc-5.0.1-cp310-cp310-manylinux_2_17_x86_64.manylinux2014_x86_64.whl (334 kB)\n",
            "\u001b[?25l     \u001b[90m━━━━━━━━━━━━━━━━━━━━━━━━━━━━━━━━━━━━━━━━\u001b[0m \u001b[32m0.0/334.8 kB\u001b[0m \u001b[31m?\u001b[0m eta \u001b[36m-:--:--\u001b[0m\r\u001b[2K     \u001b[91m━━━━━━━━━━━━━━━━━\u001b[0m\u001b[90m╺\u001b[0m\u001b[90m━━━━━━━━━━━━━━━━━━━━━━\u001b[0m \u001b[32m143.4/334.8 kB\u001b[0m \u001b[31m4.2 MB/s\u001b[0m eta \u001b[36m0:00:01\u001b[0m\r\u001b[2K     \u001b[90m━━━━━━━━━━━━━━━━━━━━━━━━━━━━━━━━━━━━━━━━\u001b[0m \u001b[32m334.8/334.8 kB\u001b[0m \u001b[31m5.5 MB/s\u001b[0m eta \u001b[36m0:00:00\u001b[0m\n",
            "\u001b[?25hInstalling collected packages: pyodbc\n",
            "Successfully installed pyodbc-5.0.1\n",
            "Collecting sqlserverport\n",
            "  Downloading sqlserverport-1.0.1-py3-none-any.whl (7.6 kB)\n",
            "Installing collected packages: sqlserverport\n",
            "Successfully installed sqlserverport-1.0.1\n",
            "Reading package lists... Done\n",
            "Building dependency tree... Done\n",
            "Reading state information... Done\n",
            "unixodbc-dev is already the newest version (2.3.9-5).\n",
            "unixodbc-dev set to manually installed.\n",
            "0 upgraded, 0 newly installed, 0 to remove and 18 not upgraded.\n",
            "Requirement already satisfied: pyodbc in /usr/local/lib/python3.10/dist-packages (5.0.1)\n",
            "Collecting chart_studio\n",
            "  Downloading chart_studio-1.1.0-py3-none-any.whl (64 kB)\n",
            "\u001b[2K     \u001b[90m━━━━━━━━━━━━━━━━━━━━━━━━━━━━━━━━━━━━━━━━\u001b[0m \u001b[32m64.4/64.4 kB\u001b[0m \u001b[31m2.1 MB/s\u001b[0m eta \u001b[36m0:00:00\u001b[0m\n",
            "\u001b[?25hRequirement already satisfied: plotly in /usr/local/lib/python3.10/dist-packages (from chart_studio) (5.15.0)\n",
            "Requirement already satisfied: requests in /usr/local/lib/python3.10/dist-packages (from chart_studio) (2.31.0)\n",
            "Collecting retrying>=1.3.3 (from chart_studio)\n",
            "  Downloading retrying-1.3.4-py3-none-any.whl (11 kB)\n",
            "Requirement already satisfied: six in /usr/local/lib/python3.10/dist-packages (from chart_studio) (1.16.0)\n",
            "Requirement already satisfied: tenacity>=6.2.0 in /usr/local/lib/python3.10/dist-packages (from plotly->chart_studio) (8.2.3)\n",
            "Requirement already satisfied: packaging in /usr/local/lib/python3.10/dist-packages (from plotly->chart_studio) (23.2)\n",
            "Requirement already satisfied: charset-normalizer<4,>=2 in /usr/local/lib/python3.10/dist-packages (from requests->chart_studio) (3.3.0)\n",
            "Requirement already satisfied: idna<4,>=2.5 in /usr/local/lib/python3.10/dist-packages (from requests->chart_studio) (3.4)\n",
            "Requirement already satisfied: urllib3<3,>=1.21.1 in /usr/local/lib/python3.10/dist-packages (from requests->chart_studio) (2.0.6)\n",
            "Requirement already satisfied: certifi>=2017.4.17 in /usr/local/lib/python3.10/dist-packages (from requests->chart_studio) (2023.7.22)\n",
            "Installing collected packages: retrying, chart_studio\n",
            "Successfully installed chart_studio-1.1.0 retrying-1.3.4\n"
          ]
        }
      ]
    },
    {
      "cell_type": "code",
      "source": [
        "%%sh\n",
        "\n",
        "curl https://packages.microsoft.com/keys/microsoft.asc | apt-key add -\n",
        "\n",
        "curl https://packages.microsoft.com/config/ubuntu/23.04/prod.list > /etc/apt/sources.list.d/mssql-release.list\n",
        "\n",
        "sudo apt-get update\n",
        "\n",
        "sudo ACCEPT_EULA=Y apt-get -q -y install msodbcsql18\n"
      ],
      "metadata": {
        "colab": {
          "base_uri": "https://localhost:8080/"
        },
        "id": "hJUBd0qufwK0",
        "outputId": "17b23ec5-6db8-440a-b01c-89566aef120e"
      },
      "execution_count": null,
      "outputs": [
        {
          "output_type": "stream",
          "name": "stdout",
          "text": [
            "OK\n",
            "Get:1 https://cloud.r-project.org/bin/linux/ubuntu jammy-cran40/ InRelease [3,626 B]\n",
            "Hit:2 https://developer.download.nvidia.com/compute/cuda/repos/ubuntu2204/x86_64  InRelease\n",
            "Get:3 http://security.ubuntu.com/ubuntu jammy-security InRelease [110 kB]\n",
            "Get:4 https://packages.microsoft.com/ubuntu/23.04/prod lunar InRelease [3,611 B]\n",
            "Hit:5 http://archive.ubuntu.com/ubuntu jammy InRelease\n",
            "Get:6 http://archive.ubuntu.com/ubuntu jammy-updates InRelease [119 kB]\n",
            "Get:7 https://packages.microsoft.com/ubuntu/23.04/prod lunar/main all Packages [371 B]\n",
            "Get:8 https://packages.microsoft.com/ubuntu/23.04/prod lunar/main arm64 Packages [1,746 B]\n",
            "Get:9 https://packages.microsoft.com/ubuntu/23.04/prod lunar/main amd64 Packages [19.0 kB]\n",
            "Get:10 https://packages.microsoft.com/ubuntu/23.04/prod lunar/main armhf Packages [576 B]\n",
            "Get:11 https://ppa.launchpadcontent.net/c2d4u.team/c2d4u4.0+/ubuntu jammy InRelease [18.1 kB]\n",
            "Get:12 http://security.ubuntu.com/ubuntu jammy-security/universe amd64 Packages [1,005 kB]\n",
            "Get:13 http://archive.ubuntu.com/ubuntu jammy-backports InRelease [109 kB]\n",
            "Get:14 http://archive.ubuntu.com/ubuntu jammy-updates/main amd64 Packages [1,347 kB]\n",
            "Hit:15 https://ppa.launchpadcontent.net/deadsnakes/ppa/ubuntu jammy InRelease\n",
            "Get:16 http://archive.ubuntu.com/ubuntu jammy-updates/universe amd64 Packages [1,270 kB]\n",
            "Hit:17 https://ppa.launchpadcontent.net/graphics-drivers/ppa/ubuntu jammy InRelease\n",
            "Hit:18 https://ppa.launchpadcontent.net/ubuntugis/ppa/ubuntu jammy InRelease\n",
            "Get:19 https://ppa.launchpadcontent.net/c2d4u.team/c2d4u4.0+/ubuntu jammy/main Sources [2,203 kB]\n",
            "Get:20 https://ppa.launchpadcontent.net/c2d4u.team/c2d4u4.0+/ubuntu jammy/main amd64 Packages [1,129 kB]\n",
            "Fetched 7,339 kB in 6s (1,294 kB/s)\n",
            "Reading package lists...\n",
            "Reading package lists...\n",
            "Building dependency tree...\n",
            "Reading state information...\n",
            "The following additional packages will be installed:\n",
            "  odbcinst unixodbc\n",
            "The following NEW packages will be installed:\n",
            "  msodbcsql18 odbcinst unixodbc\n",
            "0 upgraded, 3 newly installed, 0 to remove and 19 not upgraded.\n",
            "Need to get 793 kB of archives.\n",
            "After this operation, 164 kB of additional disk space will be used.\n",
            "Get:1 http://archive.ubuntu.com/ubuntu jammy/universe amd64 odbcinst amd64 2.3.9-5 [10.0 kB]\n",
            "Get:2 https://packages.microsoft.com/ubuntu/23.04/prod lunar/main amd64 msodbcsql18 amd64 18.3.2.1-1 [756 kB]\n",
            "Get:3 http://archive.ubuntu.com/ubuntu jammy/universe amd64 unixodbc amd64 2.3.9-5 [26.8 kB]\n",
            "Fetched 793 kB in 0s (2,833 kB/s)\n",
            "Selecting previously unselected package odbcinst.\r\n",
            "(Reading database ... \r(Reading database ... 5%\r(Reading database ... 10%\r(Reading database ... 15%\r(Reading database ... 20%\r(Reading database ... 25%\r(Reading database ... 30%\r(Reading database ... 35%\r(Reading database ... 40%\r(Reading database ... 45%\r(Reading database ... 50%\r(Reading database ... 55%\r(Reading database ... 60%\r(Reading database ... 65%\r(Reading database ... 70%\r(Reading database ... 75%\r(Reading database ... 80%\r(Reading database ... 85%\r(Reading database ... 90%\r(Reading database ... 95%\r(Reading database ... 100%\r(Reading database ... 120875 files and directories currently installed.)\r\n",
            "Preparing to unpack .../odbcinst_2.3.9-5_amd64.deb ...\r\n",
            "Unpacking odbcinst (2.3.9-5) ...\r\n",
            "Selecting previously unselected package unixodbc.\r\n",
            "Preparing to unpack .../unixodbc_2.3.9-5_amd64.deb ...\r\n",
            "Unpacking unixodbc (2.3.9-5) ...\r\n",
            "Selecting previously unselected package msodbcsql18.\r\n",
            "Preparing to unpack .../msodbcsql18_18.3.2.1-1_amd64.deb ...\r\n",
            "debconf: unable to initialize frontend: Dialog\r\n",
            "debconf: (No usable dialog-like program is installed, so the dialog based frontend cannot be used. at /usr/share/perl5/Debconf/FrontEnd/Dialog.pm line 78.)\r\n",
            "debconf: falling back to frontend: Readline\r\n",
            "Unpacking msodbcsql18 (18.3.2.1-1) ...\r\n",
            "Setting up odbcinst (2.3.9-5) ...\r\n",
            "Setting up unixodbc (2.3.9-5) ...\r\n",
            "Setting up msodbcsql18 (18.3.2.1-1) ...\r\n",
            "odbcinst: Driver installed. Usage count increased to 1. \r\n",
            "    Target directory is /etc\r\n",
            "Processing triggers for man-db (2.10.2-1) ...\r\n"
          ]
        },
        {
          "output_type": "stream",
          "name": "stderr",
          "text": [
            "  % Total    % Received % Xferd  Average Speed   Time    Time     Time  Current\n",
            "                                 Dload  Upload   Total   Spent    Left  Speed\n",
            "\r  0     0    0     0    0     0      0      0 --:--:-- --:--:-- --:--:--     0\r  0     0    0     0    0     0      0      0 --:--:-- --:--:-- --:--:--     0Warning: apt-key is deprecated. Manage keyring files in trusted.gpg.d instead (see apt-key(8)).\n",
            "\r100   983  100   983    0     0   4428      0 --:--:-- --:--:-- --:--:--  4427\n",
            "  % Total    % Received % Xferd  Average Speed   Time    Time     Time  Current\n",
            "                                 Dload  Upload   Total   Spent    Left  Speed\n",
            "\r  0     0    0     0    0     0      0      0 --:--:-- --:--:-- --:--:--     0\r100    88  100    88    0     0    502      0 --:--:-- --:--:-- --:--:--   502\n",
            "W: https://packages.microsoft.com/ubuntu/23.04/prod/dists/lunar/InRelease: Key is stored in legacy trusted.gpg keyring (/etc/apt/trusted.gpg), see the DEPRECATION section in apt-key(8) for details.\n",
            "debconf: unable to initialize frontend: Dialog\n",
            "debconf: (No usable dialog-like program is installed, so the dialog based frontend cannot be used. at /usr/share/perl5/Debconf/FrontEnd/Dialog.pm line 78, <> line 3.)\n",
            "debconf: falling back to frontend: Readline\n",
            "debconf: unable to initialize frontend: Readline\n",
            "debconf: (This frontend requires a controlling tty.)\n",
            "debconf: falling back to frontend: Teletype\n",
            "dpkg-preconfigure: unable to re-open stdin: \n"
          ]
        }
      ]
    },
    {
      "cell_type": "code",
      "source": [
        "import pyodbc\n",
        "import pandas as pd"
      ],
      "metadata": {
        "id": "SxRGeH9ubdG6"
      },
      "execution_count": null,
      "outputs": []
    },
    {
      "cell_type": "code",
      "source": [
        "SERVER = 'ip,1433;'\n",
        "DATABASE = 'baseDados'\n",
        "USERNAME = 'usuario'\n",
        "PASSWORD = 'senha'"
      ],
      "metadata": {
        "id": "seLfl5ksbPK6"
      },
      "execution_count": null,
      "outputs": []
    },
    {
      "cell_type": "code",
      "source": [
        "connectionString = f'DRIVER={{ODBC Driver 18 for SQL Server}};SERVER={SERVER};DATABASE={DATABASE};UID={USERNAME};PWD={PASSWORD}'"
      ],
      "metadata": {
        "id": "qmg421eYbqdZ"
      },
      "execution_count": null,
      "outputs": []
    },
    {
      "cell_type": "code",
      "source": [
        "conn = pyodbc.connect(connectionString)"
      ],
      "metadata": {
        "id": "ucfmWJRlb7Rn"
      },
      "execution_count": null,
      "outputs": []
    },
    {
      "cell_type": "code",
      "source": [
        "SQL_QUERY = \"\"\"\n",
        "            SELECT * FROM [dbo].[produtoOK];\n",
        "\"\"\""
      ],
      "metadata": {
        "id": "wlQ6gS4tbt4K"
      },
      "execution_count": null,
      "outputs": []
    },
    {
      "cell_type": "code",
      "source": [
        "cursor = conn.cursor()\n",
        "cursor.execute(SQL_QUERY)\n"
      ],
      "metadata": {
        "id": "tyUEK87Gi5Jd",
        "colab": {
          "base_uri": "https://localhost:8080/"
        },
        "outputId": "1e2dc67a-5ce0-4411-eba6-9ba1e939a0b7"
      },
      "execution_count": null,
      "outputs": [
        {
          "output_type": "execute_result",
          "data": {
            "text/plain": [
              "<pyodbc.Cursor at 0x7c06820d76b0>"
            ]
          },
          "metadata": {},
          "execution_count": 10
        }
      ]
    },
    {
      "cell_type": "code",
      "source": [],
      "metadata": {
        "id": "YoZjEpH5trfz"
      },
      "execution_count": null,
      "outputs": []
    },
    {
      "cell_type": "code",
      "source": [
        "records = cursor.fetchall()\n"
      ],
      "metadata": {
        "id": "Mk_4Qodei8sq"
      },
      "execution_count": null,
      "outputs": []
    },
    {
      "cell_type": "code",
      "source": [
        "records"
      ],
      "metadata": {
        "colab": {
          "base_uri": "https://localhost:8080/"
        },
        "id": "MqOnAnXHjE4q",
        "outputId": "5570babb-6875-47fb-a60e-884105293347"
      },
      "execution_count": null,
      "outputs": [
        {
          "output_type": "execute_result",
          "data": {
            "text/plain": [
              "[(1, 'Hidratante Corporal', Decimal('26'), datetime.date(2023, 8, 30), 'Natura'),\n",
              " (2, 'Hidratante Corporal', Decimal('26'), datetime.date(2023, 9, 30), '2'),\n",
              " (3, 'Hidratante mãos', Decimal('13'), datetime.date(2023, 9, 30), '2'),\n",
              " (4, 'Hidratante pernas', Decimal('11'), datetime.date(2023, 9, 30), '2'),\n",
              " (5, 'Hidratante unhas', Decimal('7'), datetime.date(2023, 8, 12), '1'),\n",
              " (6, 'Hidratante facial', Decimal('80'), datetime.date(2023, 8, 12), '3'),\n",
              " (7, 'Batom ultra mate', Decimal('36'), datetime.date(2023, 7, 20), '6'),\n",
              " (8, 'Perfume Yes', Decimal('400'), datetime.date(2023, 7, 20), '7'),\n",
              " (9, 'Perfume Yes rosa', Decimal('400'), datetime.date(2023, 7, 20), '7'),\n",
              " (10, 'Hidratante Corporal', Decimal('26'), datetime.date(2023, 9, 30), '2'),\n",
              " (11, 'Hidratante mãos', Decimal('13'), datetime.date(2023, 9, 30), '2'),\n",
              " (12, 'Hidratante pernas', Decimal('11'), datetime.date(2023, 9, 30), '2'),\n",
              " (13, 'Hidratante unhas', Decimal('7'), datetime.date(2023, 8, 12), '1'),\n",
              " (14, 'Hidratante facial', Decimal('80'), datetime.date(2023, 8, 12), '3'),\n",
              " (15, 'Batom ultra mate', Decimal('36'), datetime.date(2023, 7, 20), '6'),\n",
              " (16, 'Perfume Yes', Decimal('400'), datetime.date(2023, 7, 20), '7'),\n",
              " (17, 'Perfume Yes rosa', Decimal('400'), datetime.date(2023, 7, 20), '7')]"
            ]
          },
          "metadata": {},
          "execution_count": 12
        }
      ]
    },
    {
      "cell_type": "code",
      "source": [
        "for r in records:\n",
        "    print(f\"{r.nome_produto}\\t{r.valor_produto}\\t{r.data_compra}\")"
      ],
      "metadata": {
        "colab": {
          "base_uri": "https://localhost:8080/"
        },
        "id": "RJFmAnsVjG-L",
        "outputId": "db8a340e-130b-43fe-db03-6f808036aeda"
      },
      "execution_count": null,
      "outputs": [
        {
          "output_type": "stream",
          "name": "stdout",
          "text": [
            "Hidratante Corporal\t26\t2023-08-30\n",
            "Hidratante Corporal\t26\t2023-09-30\n",
            "Hidratante mãos\t13\t2023-09-30\n",
            "Hidratante pernas\t11\t2023-09-30\n",
            "Hidratante unhas\t7\t2023-08-12\n",
            "Hidratante facial\t80\t2023-08-12\n",
            "Batom ultra mate\t36\t2023-07-20\n",
            "Perfume Yes\t400\t2023-07-20\n",
            "Perfume Yes rosa\t400\t2023-07-20\n",
            "Hidratante Corporal\t26\t2023-09-30\n",
            "Hidratante mãos\t13\t2023-09-30\n",
            "Hidratante pernas\t11\t2023-09-30\n",
            "Hidratante unhas\t7\t2023-08-12\n",
            "Hidratante facial\t80\t2023-08-12\n",
            "Batom ultra mate\t36\t2023-07-20\n",
            "Perfume Yes\t400\t2023-07-20\n",
            "Perfume Yes rosa\t400\t2023-07-20\n"
          ]
        }
      ]
    },
    {
      "cell_type": "code",
      "source": [],
      "metadata": {
        "id": "YJClmR1cdyOF"
      },
      "execution_count": null,
      "outputs": []
    },
    {
      "cell_type": "code",
      "source": [],
      "metadata": {
        "id": "A6rWS5RNaSoS"
      },
      "execution_count": null,
      "outputs": []
    },
    {
      "cell_type": "code",
      "source": [
        "len(records)"
      ],
      "metadata": {
        "colab": {
          "base_uri": "https://localhost:8080/"
        },
        "id": "cK1JwrQYq93P",
        "outputId": "0631c4b1-4127-459c-b812-51802371fc7c"
      },
      "execution_count": null,
      "outputs": [
        {
          "output_type": "execute_result",
          "data": {
            "text/plain": [
              "6"
            ]
          },
          "metadata": {},
          "execution_count": 73
        }
      ]
    },
    {
      "cell_type": "code",
      "source": [
        "  # inserir\n",
        "SQL_STATEMENT = \"\"\"\n",
        "INSERT [dbo].[produto] (\n",
        "id_produto,\n",
        "nome_produto,\n",
        "valor_produto,\n",
        "data_compra,\n",
        "nome_fabricante\n",
        ")\n",
        "VALUES (?, ?, ?, ?, ?);\n",
        "\"\"\"\n",
        "\n",
        "\n",
        "x = \"\"\"INSERT INTO  [dbo].[produto] VALUES (8,'Batom Mega ultra brilho',15.50,'2023-07-20',6);\"\"\""
      ],
      "metadata": {
        "id": "JG8EOeNTo0R0"
      },
      "execution_count": null,
      "outputs": []
    },
    {
      "cell_type": "code",
      "source": [
        "cursor.execute(\n",
        "    SQL_STATEMENT,\n",
        "    8,\n",
        "    'Batom Mega ultra brilho',\n",
        "    15.50,\n",
        "    '2023-07-20',\n",
        "    6\n",
        ")"
      ],
      "metadata": {
        "colab": {
          "base_uri": "https://localhost:8080/"
        },
        "id": "1D1uVSodpSoA",
        "outputId": "040499e0-eefc-4377-e5a4-422c1489dfd0"
      },
      "execution_count": null,
      "outputs": [
        {
          "output_type": "execute_result",
          "data": {
            "text/plain": [
              "<pyodbc.Cursor at 0x7f4c88692130>"
            ]
          },
          "metadata": {},
          "execution_count": 19
        }
      ]
    },
    {
      "cell_type": "code",
      "source": [
        "cursor.execute(x)"
      ],
      "metadata": {
        "colab": {
          "base_uri": "https://localhost:8080/",
          "height": 227
        },
        "id": "G-S4ysTdvt5J",
        "outputId": "77284990-3b9c-4d50-e188-53d0364370c9"
      },
      "execution_count": null,
      "outputs": [
        {
          "output_type": "error",
          "ename": "IntegrityError",
          "evalue": "ignored",
          "traceback": [
            "\u001b[0;31m---------------------------------------------------------------------------\u001b[0m",
            "\u001b[0;31mIntegrityError\u001b[0m                            Traceback (most recent call last)",
            "\u001b[0;32m<ipython-input-20-777cf85556d3>\u001b[0m in \u001b[0;36m<cell line: 1>\u001b[0;34m()\u001b[0m\n\u001b[0;32m----> 1\u001b[0;31m \u001b[0mcursor\u001b[0m\u001b[0;34m.\u001b[0m\u001b[0mexecute\u001b[0m\u001b[0;34m(\u001b[0m\u001b[0mx\u001b[0m\u001b[0;34m)\u001b[0m\u001b[0;34m\u001b[0m\u001b[0;34m\u001b[0m\u001b[0m\n\u001b[0m",
            "\u001b[0;31mIntegrityError\u001b[0m: ('23000', \"[23000] [Microsoft][ODBC Driver 18 for SQL Server][SQL Server]Violation of PRIMARY KEY constraint 'PK__produto__BA38A6B8CD307CE5'. Cannot insert duplicate key in object 'dbo.produto'. The duplicate key value is (8). (2627) (SQLExecDirectW)\")"
          ]
        }
      ]
    },
    {
      "cell_type": "code",
      "source": [
        "conn.commit() # para salvar de fato na base"
      ],
      "metadata": {
        "id": "onehn-J7spfn"
      },
      "execution_count": null,
      "outputs": []
    },
    {
      "cell_type": "code",
      "source": [
        "cursor.close() # encerrar\n",
        "conn.close()"
      ],
      "metadata": {
        "id": "8U4VBgtBsyPU"
      },
      "execution_count": null,
      "outputs": []
    },
    {
      "cell_type": "code",
      "source": [
        "def conexao():\n",
        "  servidor = 'ip,1433;'\n",
        "  database = 'teste'\n",
        "  usuario = 'usuario'\n",
        "  senha = 'senha'\n",
        "  connectionString = f'DRIVER={{ODBC Driver 18 for SQL Server}};SERVER={servidor};DATABASE={database};UID={usuario};PWD={senha}'\n",
        "  conn = pyodbc.connect(connectionString)\n",
        "  return conn"
      ],
      "metadata": {
        "id": "7ntuOEvRq7C9"
      },
      "execution_count": null,
      "outputs": []
    },
    {
      "cell_type": "code",
      "source": [
        "def pesquisaProd():\n",
        "  p = \"SELECT * FROM [dbo].[produtoOK];\"\n",
        "  c = conexao()\n",
        "  cursor = c.cursor()\n",
        "  cursor.execute(p)\n",
        "  resultado = cursor.fetchall()\n",
        "  cursor.close()\n",
        "  c.close()\n",
        "  return resultado\n",
        "\n",
        "\n",
        "\n"
      ],
      "metadata": {
        "id": "WVPleOVRaLnV"
      },
      "execution_count": null,
      "outputs": []
    },
    {
      "cell_type": "code",
      "source": [
        "def inseriProd(nome,valor,fabricante):\n",
        "  c = conexao()\n",
        "  ex = c.cursor()\n",
        "  salvar = \"\"\" INSERT [dbo].[produtoOK] (\n",
        "    nome_produto,\n",
        "    valor_produto,\n",
        "    data_compra,\n",
        "    nome_fabricante)\n",
        "    VALUES (?, ?, ?, ?);\"\"\"\n",
        "  ex.execute(salvar,nome,valor,'2023-07-20',fabricante)\n",
        "  c.commit() # para enviar para a base de dados\n",
        "  ex.close()\n",
        "  c.close()\n",
        "\n"
      ],
      "metadata": {
        "id": "4WsjpHE4a4Q6"
      },
      "execution_count": null,
      "outputs": []
    },
    {
      "cell_type": "code",
      "source": [
        "def pesqProdTab():\n",
        "  p = \"SELECT * FROM [dbo].[produtoOK];\"\n",
        "  c = conexao()\n",
        "  cursor = c.cursor()\n",
        "  df = pd.read_sql(p,c)\n",
        "  cursor.close()\n",
        "  c.close()\n",
        "  return df\n",
        "\n"
      ],
      "metadata": {
        "id": "C0Ntr0OJfgcL"
      },
      "execution_count": null,
      "outputs": []
    },
    {
      "cell_type": "code",
      "source": [
        "def inseriProdTab(df):\n",
        "  c = conexao()\n",
        "  cursor = c.cursor()\n",
        "  for index, row in df.iterrows():\n",
        "      query = \"\"\"INSERT INTO [dbo].[produtoOK] (\n",
        "        nome_produto,\n",
        "        valor_produto,\n",
        "        data_compra,\n",
        "        nome_fabricante) values(?,?,?,?);\"\"\"\n",
        "      cursor.execute(query, row.nome_produto, row.valor_produto, row.data_compra, row.nome_fabricante)\n",
        "\n",
        "  c.commit()\n",
        "  cursor.close()\n",
        "  c.close()"
      ],
      "metadata": {
        "id": "0r2rPQoNmODE"
      },
      "execution_count": null,
      "outputs": []
    },
    {
      "cell_type": "markdown",
      "source": [
        "Chamada da função para inserir o perfume"
      ],
      "metadata": {
        "id": "nAFg9HMMddvf"
      }
    },
    {
      "cell_type": "code",
      "source": [
        "inseriProd(9,'Perfume Yes rosa',400.00,7)"
      ],
      "metadata": {
        "id": "Sh6Q1dGBdC55"
      },
      "execution_count": null,
      "outputs": []
    },
    {
      "cell_type": "code",
      "source": [
        "resultado = pesquisaProd()\n",
        "resultado"
      ],
      "metadata": {
        "colab": {
          "base_uri": "https://localhost:8080/"
        },
        "id": "5ChzDLKvdhzn",
        "outputId": "46c7bf6c-4264-4e28-f0a0-f5c748417cd4"
      },
      "execution_count": null,
      "outputs": [
        {
          "output_type": "execute_result",
          "data": {
            "text/plain": [
              "[(1, 'Hidratante Corporal', Decimal('25.99'), datetime.datetime(2023, 9, 30, 0, 0), 2),\n",
              " (2, 'Hidratante mãos', Decimal('13.00'), datetime.datetime(2023, 9, 30, 0, 0), 2),\n",
              " (3, 'Hidratante pernas', Decimal('10.77'), datetime.datetime(2023, 9, 30, 0, 0), 2),\n",
              " (4, 'Hidratante unhas', Decimal('7.00'), datetime.datetime(2023, 8, 12, 0, 0), 1),\n",
              " (5, 'Hidratante facial', Decimal('80.00'), datetime.datetime(2023, 8, 12, 0, 0), 3),\n",
              " (6, 'Batom ultra mate', Decimal('35.50'), datetime.datetime(2023, 7, 20, 0, 0), 6),\n",
              " (7, 'Perfume Yes', Decimal('400.00'), datetime.datetime(2023, 7, 20, 0, 0), 7)]"
            ]
          },
          "metadata": {},
          "execution_count": 42
        }
      ]
    },
    {
      "cell_type": "code",
      "source": [
        "for r in resultado:\n",
        "    print(f\"{r.nome_produto}\\t{r.valor_produto}\\t{r.data_compra}\")"
      ],
      "metadata": {
        "colab": {
          "base_uri": "https://localhost:8080/"
        },
        "id": "bJzWVCYtdzS9",
        "outputId": "2e57a360-ed4a-4f11-80a4-0a245e6e532f"
      },
      "execution_count": null,
      "outputs": [
        {
          "output_type": "stream",
          "name": "stdout",
          "text": [
            "Hidratante Corporal\t25.99\t2023-09-30 00:00:00\n",
            "Hidratante mãos\t13.00\t2023-09-30 00:00:00\n",
            "Hidratante pernas\t10.77\t2023-09-30 00:00:00\n",
            "Hidratante unhas\t7.00\t2023-08-12 00:00:00\n",
            "Hidratante facial\t80.00\t2023-08-12 00:00:00\n",
            "Batom ultra mate\t35.50\t2023-07-20 00:00:00\n",
            "Perfume Yes\t400.00\t2023-07-20 00:00:00\n"
          ]
        }
      ]
    },
    {
      "cell_type": "code",
      "source": [],
      "metadata": {
        "id": "N4-RWgnueaVi"
      },
      "execution_count": null,
      "outputs": []
    },
    {
      "cell_type": "code",
      "source": [
        "df = pd.DataFrame(resultado)\n",
        "df.head()"
      ],
      "metadata": {
        "colab": {
          "base_uri": "https://localhost:8080/",
          "height": 206
        },
        "id": "H5tZyW5cehKI",
        "outputId": "482af444-4012-4df3-889f-759ea6ae666e"
      },
      "execution_count": null,
      "outputs": [
        {
          "output_type": "execute_result",
          "data": {
            "text/plain": [
              "                                                   0\n",
              "0  [1, Hidratante Corporal, 25.99, 2023-09-30 00:...\n",
              "1  [2, Hidratante mãos, 13.00, 2023-09-30 00:00:0...\n",
              "2  [3, Hidratante pernas, 10.77, 2023-09-30 00:00...\n",
              "3  [4, Hidratante unhas, 7.00, 2023-08-12 00:00:0...\n",
              "4  [5, Hidratante facial, 80.00, 2023-08-12 00:00..."
            ],
            "text/html": [
              "\n",
              "  <div id=\"df-20c5cc0f-9db7-448f-a96a-9309fff7b115\" class=\"colab-df-container\">\n",
              "    <div>\n",
              "<style scoped>\n",
              "    .dataframe tbody tr th:only-of-type {\n",
              "        vertical-align: middle;\n",
              "    }\n",
              "\n",
              "    .dataframe tbody tr th {\n",
              "        vertical-align: top;\n",
              "    }\n",
              "\n",
              "    .dataframe thead th {\n",
              "        text-align: right;\n",
              "    }\n",
              "</style>\n",
              "<table border=\"1\" class=\"dataframe\">\n",
              "  <thead>\n",
              "    <tr style=\"text-align: right;\">\n",
              "      <th></th>\n",
              "      <th>0</th>\n",
              "    </tr>\n",
              "  </thead>\n",
              "  <tbody>\n",
              "    <tr>\n",
              "      <th>0</th>\n",
              "      <td>[1, Hidratante Corporal, 25.99, 2023-09-30 00:...</td>\n",
              "    </tr>\n",
              "    <tr>\n",
              "      <th>1</th>\n",
              "      <td>[2, Hidratante mãos, 13.00, 2023-09-30 00:00:0...</td>\n",
              "    </tr>\n",
              "    <tr>\n",
              "      <th>2</th>\n",
              "      <td>[3, Hidratante pernas, 10.77, 2023-09-30 00:00...</td>\n",
              "    </tr>\n",
              "    <tr>\n",
              "      <th>3</th>\n",
              "      <td>[4, Hidratante unhas, 7.00, 2023-08-12 00:00:0...</td>\n",
              "    </tr>\n",
              "    <tr>\n",
              "      <th>4</th>\n",
              "      <td>[5, Hidratante facial, 80.00, 2023-08-12 00:00...</td>\n",
              "    </tr>\n",
              "  </tbody>\n",
              "</table>\n",
              "</div>\n",
              "    <div class=\"colab-df-buttons\">\n",
              "\n",
              "  <div class=\"colab-df-container\">\n",
              "    <button class=\"colab-df-convert\" onclick=\"convertToInteractive('df-20c5cc0f-9db7-448f-a96a-9309fff7b115')\"\n",
              "            title=\"Convert this dataframe to an interactive table.\"\n",
              "            style=\"display:none;\">\n",
              "\n",
              "  <svg xmlns=\"http://www.w3.org/2000/svg\" height=\"24px\" viewBox=\"0 -960 960 960\">\n",
              "    <path d=\"M120-120v-720h720v720H120Zm60-500h600v-160H180v160Zm220 220h160v-160H400v160Zm0 220h160v-160H400v160ZM180-400h160v-160H180v160Zm440 0h160v-160H620v160ZM180-180h160v-160H180v160Zm440 0h160v-160H620v160Z\"/>\n",
              "  </svg>\n",
              "    </button>\n",
              "\n",
              "  <style>\n",
              "    .colab-df-container {\n",
              "      display:flex;\n",
              "      gap: 12px;\n",
              "    }\n",
              "\n",
              "    .colab-df-convert {\n",
              "      background-color: #E8F0FE;\n",
              "      border: none;\n",
              "      border-radius: 50%;\n",
              "      cursor: pointer;\n",
              "      display: none;\n",
              "      fill: #1967D2;\n",
              "      height: 32px;\n",
              "      padding: 0 0 0 0;\n",
              "      width: 32px;\n",
              "    }\n",
              "\n",
              "    .colab-df-convert:hover {\n",
              "      background-color: #E2EBFA;\n",
              "      box-shadow: 0px 1px 2px rgba(60, 64, 67, 0.3), 0px 1px 3px 1px rgba(60, 64, 67, 0.15);\n",
              "      fill: #174EA6;\n",
              "    }\n",
              "\n",
              "    .colab-df-buttons div {\n",
              "      margin-bottom: 4px;\n",
              "    }\n",
              "\n",
              "    [theme=dark] .colab-df-convert {\n",
              "      background-color: #3B4455;\n",
              "      fill: #D2E3FC;\n",
              "    }\n",
              "\n",
              "    [theme=dark] .colab-df-convert:hover {\n",
              "      background-color: #434B5C;\n",
              "      box-shadow: 0px 1px 3px 1px rgba(0, 0, 0, 0.15);\n",
              "      filter: drop-shadow(0px 1px 2px rgba(0, 0, 0, 0.3));\n",
              "      fill: #FFFFFF;\n",
              "    }\n",
              "  </style>\n",
              "\n",
              "    <script>\n",
              "      const buttonEl =\n",
              "        document.querySelector('#df-20c5cc0f-9db7-448f-a96a-9309fff7b115 button.colab-df-convert');\n",
              "      buttonEl.style.display =\n",
              "        google.colab.kernel.accessAllowed ? 'block' : 'none';\n",
              "\n",
              "      async function convertToInteractive(key) {\n",
              "        const element = document.querySelector('#df-20c5cc0f-9db7-448f-a96a-9309fff7b115');\n",
              "        const dataTable =\n",
              "          await google.colab.kernel.invokeFunction('convertToInteractive',\n",
              "                                                    [key], {});\n",
              "        if (!dataTable) return;\n",
              "\n",
              "        const docLinkHtml = 'Like what you see? Visit the ' +\n",
              "          '<a target=\"_blank\" href=https://colab.research.google.com/notebooks/data_table.ipynb>data table notebook</a>'\n",
              "          + ' to learn more about interactive tables.';\n",
              "        element.innerHTML = '';\n",
              "        dataTable['output_type'] = 'display_data';\n",
              "        await google.colab.output.renderOutput(dataTable, element);\n",
              "        const docLink = document.createElement('div');\n",
              "        docLink.innerHTML = docLinkHtml;\n",
              "        element.appendChild(docLink);\n",
              "      }\n",
              "    </script>\n",
              "  </div>\n",
              "\n",
              "\n",
              "<div id=\"df-c5b0e127-8081-471e-bef0-32b166351805\">\n",
              "  <button class=\"colab-df-quickchart\" onclick=\"quickchart('df-c5b0e127-8081-471e-bef0-32b166351805')\"\n",
              "            title=\"Suggest charts.\"\n",
              "            style=\"display:none;\">\n",
              "\n",
              "<svg xmlns=\"http://www.w3.org/2000/svg\" height=\"24px\"viewBox=\"0 0 24 24\"\n",
              "     width=\"24px\">\n",
              "    <g>\n",
              "        <path d=\"M19 3H5c-1.1 0-2 .9-2 2v14c0 1.1.9 2 2 2h14c1.1 0 2-.9 2-2V5c0-1.1-.9-2-2-2zM9 17H7v-7h2v7zm4 0h-2V7h2v10zm4 0h-2v-4h2v4z\"/>\n",
              "    </g>\n",
              "</svg>\n",
              "  </button>\n",
              "\n",
              "<style>\n",
              "  .colab-df-quickchart {\n",
              "      --bg-color: #E8F0FE;\n",
              "      --fill-color: #1967D2;\n",
              "      --hover-bg-color: #E2EBFA;\n",
              "      --hover-fill-color: #174EA6;\n",
              "      --disabled-fill-color: #AAA;\n",
              "      --disabled-bg-color: #DDD;\n",
              "  }\n",
              "\n",
              "  [theme=dark] .colab-df-quickchart {\n",
              "      --bg-color: #3B4455;\n",
              "      --fill-color: #D2E3FC;\n",
              "      --hover-bg-color: #434B5C;\n",
              "      --hover-fill-color: #FFFFFF;\n",
              "      --disabled-bg-color: #3B4455;\n",
              "      --disabled-fill-color: #666;\n",
              "  }\n",
              "\n",
              "  .colab-df-quickchart {\n",
              "    background-color: var(--bg-color);\n",
              "    border: none;\n",
              "    border-radius: 50%;\n",
              "    cursor: pointer;\n",
              "    display: none;\n",
              "    fill: var(--fill-color);\n",
              "    height: 32px;\n",
              "    padding: 0;\n",
              "    width: 32px;\n",
              "  }\n",
              "\n",
              "  .colab-df-quickchart:hover {\n",
              "    background-color: var(--hover-bg-color);\n",
              "    box-shadow: 0 1px 2px rgba(60, 64, 67, 0.3), 0 1px 3px 1px rgba(60, 64, 67, 0.15);\n",
              "    fill: var(--button-hover-fill-color);\n",
              "  }\n",
              "\n",
              "  .colab-df-quickchart-complete:disabled,\n",
              "  .colab-df-quickchart-complete:disabled:hover {\n",
              "    background-color: var(--disabled-bg-color);\n",
              "    fill: var(--disabled-fill-color);\n",
              "    box-shadow: none;\n",
              "  }\n",
              "\n",
              "  .colab-df-spinner {\n",
              "    border: 2px solid var(--fill-color);\n",
              "    border-color: transparent;\n",
              "    border-bottom-color: var(--fill-color);\n",
              "    animation:\n",
              "      spin 1s steps(1) infinite;\n",
              "  }\n",
              "\n",
              "  @keyframes spin {\n",
              "    0% {\n",
              "      border-color: transparent;\n",
              "      border-bottom-color: var(--fill-color);\n",
              "      border-left-color: var(--fill-color);\n",
              "    }\n",
              "    20% {\n",
              "      border-color: transparent;\n",
              "      border-left-color: var(--fill-color);\n",
              "      border-top-color: var(--fill-color);\n",
              "    }\n",
              "    30% {\n",
              "      border-color: transparent;\n",
              "      border-left-color: var(--fill-color);\n",
              "      border-top-color: var(--fill-color);\n",
              "      border-right-color: var(--fill-color);\n",
              "    }\n",
              "    40% {\n",
              "      border-color: transparent;\n",
              "      border-right-color: var(--fill-color);\n",
              "      border-top-color: var(--fill-color);\n",
              "    }\n",
              "    60% {\n",
              "      border-color: transparent;\n",
              "      border-right-color: var(--fill-color);\n",
              "    }\n",
              "    80% {\n",
              "      border-color: transparent;\n",
              "      border-right-color: var(--fill-color);\n",
              "      border-bottom-color: var(--fill-color);\n",
              "    }\n",
              "    90% {\n",
              "      border-color: transparent;\n",
              "      border-bottom-color: var(--fill-color);\n",
              "    }\n",
              "  }\n",
              "</style>\n",
              "\n",
              "  <script>\n",
              "    async function quickchart(key) {\n",
              "      const quickchartButtonEl =\n",
              "        document.querySelector('#' + key + ' button');\n",
              "      quickchartButtonEl.disabled = true;  // To prevent multiple clicks.\n",
              "      quickchartButtonEl.classList.add('colab-df-spinner');\n",
              "      try {\n",
              "        const charts = await google.colab.kernel.invokeFunction(\n",
              "            'suggestCharts', [key], {});\n",
              "      } catch (error) {\n",
              "        console.error('Error during call to suggestCharts:', error);\n",
              "      }\n",
              "      quickchartButtonEl.classList.remove('colab-df-spinner');\n",
              "      quickchartButtonEl.classList.add('colab-df-quickchart-complete');\n",
              "    }\n",
              "    (() => {\n",
              "      let quickchartButtonEl =\n",
              "        document.querySelector('#df-c5b0e127-8081-471e-bef0-32b166351805 button');\n",
              "      quickchartButtonEl.style.display =\n",
              "        google.colab.kernel.accessAllowed ? 'block' : 'none';\n",
              "    })();\n",
              "  </script>\n",
              "</div>\n",
              "    </div>\n",
              "  </div>\n"
            ]
          },
          "metadata": {},
          "execution_count": 74
        }
      ]
    },
    {
      "cell_type": "code",
      "source": [
        "type(resultado)"
      ],
      "metadata": {
        "colab": {
          "base_uri": "https://localhost:8080/"
        },
        "id": "ISBCaX8Ze2PA",
        "outputId": "4374e0ce-7796-4571-8986-066885fb5bf9"
      },
      "execution_count": null,
      "outputs": [
        {
          "output_type": "execute_result",
          "data": {
            "text/plain": [
              "list"
            ]
          },
          "metadata": {},
          "execution_count": 49
        }
      ]
    },
    {
      "cell_type": "code",
      "source": [
        "df_r = pesqProdTab()\n",
        "df_r"
      ],
      "metadata": {
        "colab": {
          "base_uri": "https://localhost:8080/",
          "height": 758
        },
        "id": "nzOJw-S_e6gD",
        "outputId": "f3c64814-9fd4-4b4f-c37e-09f3c7e95dd7"
      },
      "execution_count": null,
      "outputs": [
        {
          "output_type": "stream",
          "name": "stderr",
          "text": [
            "<ipython-input-62-b47ba0ca7f7c>:5: UserWarning: pandas only supports SQLAlchemy connectable (engine/connection) or database string URI or sqlite3 DBAPI2 connection. Other DBAPI2 objects are not tested. Please consider using SQLAlchemy.\n",
            "  df = pd.read_sql(p,c)\n"
          ]
        },
        {
          "output_type": "execute_result",
          "data": {
            "text/plain": [
              "    id_produto         nome_produto  valor_produto data_compra nome_fabricante\n",
              "0            1  Hidratante Corporal           26.0  2023-08-30          Natura\n",
              "1            2  Hidratante Corporal           26.0  2023-09-30               2\n",
              "2            3      Hidratante mãos           13.0  2023-09-30               2\n",
              "3            4    Hidratante pernas           11.0  2023-09-30               2\n",
              "4            5     Hidratante unhas            7.0  2023-08-12               1\n",
              "5            6    Hidratante facial           80.0  2023-08-12               3\n",
              "6            7     Batom ultra mate           36.0  2023-07-20               6\n",
              "7            8          Perfume Yes          400.0  2023-07-20               7\n",
              "8            9     Perfume Yes rosa          400.0  2023-07-20               7\n",
              "9           10  Hidratante Corporal           26.0  2023-09-30               2\n",
              "10          11      Hidratante mãos           13.0  2023-09-30               2\n",
              "11          12    Hidratante pernas           11.0  2023-09-30               2\n",
              "12          13     Hidratante unhas            7.0  2023-08-12               1\n",
              "13          14    Hidratante facial           80.0  2023-08-12               3\n",
              "14          15     Batom ultra mate           36.0  2023-07-20               6\n",
              "15          16          Perfume Yes          400.0  2023-07-20               7\n",
              "16          17     Perfume Yes rosa          400.0  2023-07-20               7"
            ],
            "text/html": [
              "\n",
              "  <div id=\"df-b2da0462-7a06-4a38-9eb0-4d9927919eec\" class=\"colab-df-container\">\n",
              "    <div>\n",
              "<style scoped>\n",
              "    .dataframe tbody tr th:only-of-type {\n",
              "        vertical-align: middle;\n",
              "    }\n",
              "\n",
              "    .dataframe tbody tr th {\n",
              "        vertical-align: top;\n",
              "    }\n",
              "\n",
              "    .dataframe thead th {\n",
              "        text-align: right;\n",
              "    }\n",
              "</style>\n",
              "<table border=\"1\" class=\"dataframe\">\n",
              "  <thead>\n",
              "    <tr style=\"text-align: right;\">\n",
              "      <th></th>\n",
              "      <th>id_produto</th>\n",
              "      <th>nome_produto</th>\n",
              "      <th>valor_produto</th>\n",
              "      <th>data_compra</th>\n",
              "      <th>nome_fabricante</th>\n",
              "    </tr>\n",
              "  </thead>\n",
              "  <tbody>\n",
              "    <tr>\n",
              "      <th>0</th>\n",
              "      <td>1</td>\n",
              "      <td>Hidratante Corporal</td>\n",
              "      <td>26.0</td>\n",
              "      <td>2023-08-30</td>\n",
              "      <td>Natura</td>\n",
              "    </tr>\n",
              "    <tr>\n",
              "      <th>1</th>\n",
              "      <td>2</td>\n",
              "      <td>Hidratante Corporal</td>\n",
              "      <td>26.0</td>\n",
              "      <td>2023-09-30</td>\n",
              "      <td>2</td>\n",
              "    </tr>\n",
              "    <tr>\n",
              "      <th>2</th>\n",
              "      <td>3</td>\n",
              "      <td>Hidratante mãos</td>\n",
              "      <td>13.0</td>\n",
              "      <td>2023-09-30</td>\n",
              "      <td>2</td>\n",
              "    </tr>\n",
              "    <tr>\n",
              "      <th>3</th>\n",
              "      <td>4</td>\n",
              "      <td>Hidratante pernas</td>\n",
              "      <td>11.0</td>\n",
              "      <td>2023-09-30</td>\n",
              "      <td>2</td>\n",
              "    </tr>\n",
              "    <tr>\n",
              "      <th>4</th>\n",
              "      <td>5</td>\n",
              "      <td>Hidratante unhas</td>\n",
              "      <td>7.0</td>\n",
              "      <td>2023-08-12</td>\n",
              "      <td>1</td>\n",
              "    </tr>\n",
              "    <tr>\n",
              "      <th>5</th>\n",
              "      <td>6</td>\n",
              "      <td>Hidratante facial</td>\n",
              "      <td>80.0</td>\n",
              "      <td>2023-08-12</td>\n",
              "      <td>3</td>\n",
              "    </tr>\n",
              "    <tr>\n",
              "      <th>6</th>\n",
              "      <td>7</td>\n",
              "      <td>Batom ultra mate</td>\n",
              "      <td>36.0</td>\n",
              "      <td>2023-07-20</td>\n",
              "      <td>6</td>\n",
              "    </tr>\n",
              "    <tr>\n",
              "      <th>7</th>\n",
              "      <td>8</td>\n",
              "      <td>Perfume Yes</td>\n",
              "      <td>400.0</td>\n",
              "      <td>2023-07-20</td>\n",
              "      <td>7</td>\n",
              "    </tr>\n",
              "    <tr>\n",
              "      <th>8</th>\n",
              "      <td>9</td>\n",
              "      <td>Perfume Yes rosa</td>\n",
              "      <td>400.0</td>\n",
              "      <td>2023-07-20</td>\n",
              "      <td>7</td>\n",
              "    </tr>\n",
              "    <tr>\n",
              "      <th>9</th>\n",
              "      <td>10</td>\n",
              "      <td>Hidratante Corporal</td>\n",
              "      <td>26.0</td>\n",
              "      <td>2023-09-30</td>\n",
              "      <td>2</td>\n",
              "    </tr>\n",
              "    <tr>\n",
              "      <th>10</th>\n",
              "      <td>11</td>\n",
              "      <td>Hidratante mãos</td>\n",
              "      <td>13.0</td>\n",
              "      <td>2023-09-30</td>\n",
              "      <td>2</td>\n",
              "    </tr>\n",
              "    <tr>\n",
              "      <th>11</th>\n",
              "      <td>12</td>\n",
              "      <td>Hidratante pernas</td>\n",
              "      <td>11.0</td>\n",
              "      <td>2023-09-30</td>\n",
              "      <td>2</td>\n",
              "    </tr>\n",
              "    <tr>\n",
              "      <th>12</th>\n",
              "      <td>13</td>\n",
              "      <td>Hidratante unhas</td>\n",
              "      <td>7.0</td>\n",
              "      <td>2023-08-12</td>\n",
              "      <td>1</td>\n",
              "    </tr>\n",
              "    <tr>\n",
              "      <th>13</th>\n",
              "      <td>14</td>\n",
              "      <td>Hidratante facial</td>\n",
              "      <td>80.0</td>\n",
              "      <td>2023-08-12</td>\n",
              "      <td>3</td>\n",
              "    </tr>\n",
              "    <tr>\n",
              "      <th>14</th>\n",
              "      <td>15</td>\n",
              "      <td>Batom ultra mate</td>\n",
              "      <td>36.0</td>\n",
              "      <td>2023-07-20</td>\n",
              "      <td>6</td>\n",
              "    </tr>\n",
              "    <tr>\n",
              "      <th>15</th>\n",
              "      <td>16</td>\n",
              "      <td>Perfume Yes</td>\n",
              "      <td>400.0</td>\n",
              "      <td>2023-07-20</td>\n",
              "      <td>7</td>\n",
              "    </tr>\n",
              "    <tr>\n",
              "      <th>16</th>\n",
              "      <td>17</td>\n",
              "      <td>Perfume Yes rosa</td>\n",
              "      <td>400.0</td>\n",
              "      <td>2023-07-20</td>\n",
              "      <td>7</td>\n",
              "    </tr>\n",
              "  </tbody>\n",
              "</table>\n",
              "</div>\n",
              "    <div class=\"colab-df-buttons\">\n",
              "\n",
              "  <div class=\"colab-df-container\">\n",
              "    <button class=\"colab-df-convert\" onclick=\"convertToInteractive('df-b2da0462-7a06-4a38-9eb0-4d9927919eec')\"\n",
              "            title=\"Convert this dataframe to an interactive table.\"\n",
              "            style=\"display:none;\">\n",
              "\n",
              "  <svg xmlns=\"http://www.w3.org/2000/svg\" height=\"24px\" viewBox=\"0 -960 960 960\">\n",
              "    <path d=\"M120-120v-720h720v720H120Zm60-500h600v-160H180v160Zm220 220h160v-160H400v160Zm0 220h160v-160H400v160ZM180-400h160v-160H180v160Zm440 0h160v-160H620v160ZM180-180h160v-160H180v160Zm440 0h160v-160H620v160Z\"/>\n",
              "  </svg>\n",
              "    </button>\n",
              "\n",
              "  <style>\n",
              "    .colab-df-container {\n",
              "      display:flex;\n",
              "      gap: 12px;\n",
              "    }\n",
              "\n",
              "    .colab-df-convert {\n",
              "      background-color: #E8F0FE;\n",
              "      border: none;\n",
              "      border-radius: 50%;\n",
              "      cursor: pointer;\n",
              "      display: none;\n",
              "      fill: #1967D2;\n",
              "      height: 32px;\n",
              "      padding: 0 0 0 0;\n",
              "      width: 32px;\n",
              "    }\n",
              "\n",
              "    .colab-df-convert:hover {\n",
              "      background-color: #E2EBFA;\n",
              "      box-shadow: 0px 1px 2px rgba(60, 64, 67, 0.3), 0px 1px 3px 1px rgba(60, 64, 67, 0.15);\n",
              "      fill: #174EA6;\n",
              "    }\n",
              "\n",
              "    .colab-df-buttons div {\n",
              "      margin-bottom: 4px;\n",
              "    }\n",
              "\n",
              "    [theme=dark] .colab-df-convert {\n",
              "      background-color: #3B4455;\n",
              "      fill: #D2E3FC;\n",
              "    }\n",
              "\n",
              "    [theme=dark] .colab-df-convert:hover {\n",
              "      background-color: #434B5C;\n",
              "      box-shadow: 0px 1px 3px 1px rgba(0, 0, 0, 0.15);\n",
              "      filter: drop-shadow(0px 1px 2px rgba(0, 0, 0, 0.3));\n",
              "      fill: #FFFFFF;\n",
              "    }\n",
              "  </style>\n",
              "\n",
              "    <script>\n",
              "      const buttonEl =\n",
              "        document.querySelector('#df-b2da0462-7a06-4a38-9eb0-4d9927919eec button.colab-df-convert');\n",
              "      buttonEl.style.display =\n",
              "        google.colab.kernel.accessAllowed ? 'block' : 'none';\n",
              "\n",
              "      async function convertToInteractive(key) {\n",
              "        const element = document.querySelector('#df-b2da0462-7a06-4a38-9eb0-4d9927919eec');\n",
              "        const dataTable =\n",
              "          await google.colab.kernel.invokeFunction('convertToInteractive',\n",
              "                                                    [key], {});\n",
              "        if (!dataTable) return;\n",
              "\n",
              "        const docLinkHtml = 'Like what you see? Visit the ' +\n",
              "          '<a target=\"_blank\" href=https://colab.research.google.com/notebooks/data_table.ipynb>data table notebook</a>'\n",
              "          + ' to learn more about interactive tables.';\n",
              "        element.innerHTML = '';\n",
              "        dataTable['output_type'] = 'display_data';\n",
              "        await google.colab.output.renderOutput(dataTable, element);\n",
              "        const docLink = document.createElement('div');\n",
              "        docLink.innerHTML = docLinkHtml;\n",
              "        element.appendChild(docLink);\n",
              "      }\n",
              "    </script>\n",
              "  </div>\n",
              "\n",
              "\n",
              "<div id=\"df-ac3a0a04-dab8-480e-97e3-d3385be4e288\">\n",
              "  <button class=\"colab-df-quickchart\" onclick=\"quickchart('df-ac3a0a04-dab8-480e-97e3-d3385be4e288')\"\n",
              "            title=\"Suggest charts.\"\n",
              "            style=\"display:none;\">\n",
              "\n",
              "<svg xmlns=\"http://www.w3.org/2000/svg\" height=\"24px\"viewBox=\"0 0 24 24\"\n",
              "     width=\"24px\">\n",
              "    <g>\n",
              "        <path d=\"M19 3H5c-1.1 0-2 .9-2 2v14c0 1.1.9 2 2 2h14c1.1 0 2-.9 2-2V5c0-1.1-.9-2-2-2zM9 17H7v-7h2v7zm4 0h-2V7h2v10zm4 0h-2v-4h2v4z\"/>\n",
              "    </g>\n",
              "</svg>\n",
              "  </button>\n",
              "\n",
              "<style>\n",
              "  .colab-df-quickchart {\n",
              "      --bg-color: #E8F0FE;\n",
              "      --fill-color: #1967D2;\n",
              "      --hover-bg-color: #E2EBFA;\n",
              "      --hover-fill-color: #174EA6;\n",
              "      --disabled-fill-color: #AAA;\n",
              "      --disabled-bg-color: #DDD;\n",
              "  }\n",
              "\n",
              "  [theme=dark] .colab-df-quickchart {\n",
              "      --bg-color: #3B4455;\n",
              "      --fill-color: #D2E3FC;\n",
              "      --hover-bg-color: #434B5C;\n",
              "      --hover-fill-color: #FFFFFF;\n",
              "      --disabled-bg-color: #3B4455;\n",
              "      --disabled-fill-color: #666;\n",
              "  }\n",
              "\n",
              "  .colab-df-quickchart {\n",
              "    background-color: var(--bg-color);\n",
              "    border: none;\n",
              "    border-radius: 50%;\n",
              "    cursor: pointer;\n",
              "    display: none;\n",
              "    fill: var(--fill-color);\n",
              "    height: 32px;\n",
              "    padding: 0;\n",
              "    width: 32px;\n",
              "  }\n",
              "\n",
              "  .colab-df-quickchart:hover {\n",
              "    background-color: var(--hover-bg-color);\n",
              "    box-shadow: 0 1px 2px rgba(60, 64, 67, 0.3), 0 1px 3px 1px rgba(60, 64, 67, 0.15);\n",
              "    fill: var(--button-hover-fill-color);\n",
              "  }\n",
              "\n",
              "  .colab-df-quickchart-complete:disabled,\n",
              "  .colab-df-quickchart-complete:disabled:hover {\n",
              "    background-color: var(--disabled-bg-color);\n",
              "    fill: var(--disabled-fill-color);\n",
              "    box-shadow: none;\n",
              "  }\n",
              "\n",
              "  .colab-df-spinner {\n",
              "    border: 2px solid var(--fill-color);\n",
              "    border-color: transparent;\n",
              "    border-bottom-color: var(--fill-color);\n",
              "    animation:\n",
              "      spin 1s steps(1) infinite;\n",
              "  }\n",
              "\n",
              "  @keyframes spin {\n",
              "    0% {\n",
              "      border-color: transparent;\n",
              "      border-bottom-color: var(--fill-color);\n",
              "      border-left-color: var(--fill-color);\n",
              "    }\n",
              "    20% {\n",
              "      border-color: transparent;\n",
              "      border-left-color: var(--fill-color);\n",
              "      border-top-color: var(--fill-color);\n",
              "    }\n",
              "    30% {\n",
              "      border-color: transparent;\n",
              "      border-left-color: var(--fill-color);\n",
              "      border-top-color: var(--fill-color);\n",
              "      border-right-color: var(--fill-color);\n",
              "    }\n",
              "    40% {\n",
              "      border-color: transparent;\n",
              "      border-right-color: var(--fill-color);\n",
              "      border-top-color: var(--fill-color);\n",
              "    }\n",
              "    60% {\n",
              "      border-color: transparent;\n",
              "      border-right-color: var(--fill-color);\n",
              "    }\n",
              "    80% {\n",
              "      border-color: transparent;\n",
              "      border-right-color: var(--fill-color);\n",
              "      border-bottom-color: var(--fill-color);\n",
              "    }\n",
              "    90% {\n",
              "      border-color: transparent;\n",
              "      border-bottom-color: var(--fill-color);\n",
              "    }\n",
              "  }\n",
              "</style>\n",
              "\n",
              "  <script>\n",
              "    async function quickchart(key) {\n",
              "      const quickchartButtonEl =\n",
              "        document.querySelector('#' + key + ' button');\n",
              "      quickchartButtonEl.disabled = true;  // To prevent multiple clicks.\n",
              "      quickchartButtonEl.classList.add('colab-df-spinner');\n",
              "      try {\n",
              "        const charts = await google.colab.kernel.invokeFunction(\n",
              "            'suggestCharts', [key], {});\n",
              "      } catch (error) {\n",
              "        console.error('Error during call to suggestCharts:', error);\n",
              "      }\n",
              "      quickchartButtonEl.classList.remove('colab-df-spinner');\n",
              "      quickchartButtonEl.classList.add('colab-df-quickchart-complete');\n",
              "    }\n",
              "    (() => {\n",
              "      let quickchartButtonEl =\n",
              "        document.querySelector('#df-ac3a0a04-dab8-480e-97e3-d3385be4e288 button');\n",
              "      quickchartButtonEl.style.display =\n",
              "        google.colab.kernel.accessAllowed ? 'block' : 'none';\n",
              "    })();\n",
              "  </script>\n",
              "</div>\n",
              "    </div>\n",
              "  </div>\n"
            ]
          },
          "metadata": {},
          "execution_count": 76
        }
      ]
    },
    {
      "cell_type": "code",
      "source": [
        "inseriProdTab(df_r)"
      ],
      "metadata": {
        "id": "ukFIydeHnybm"
      },
      "execution_count": null,
      "outputs": []
    },
    {
      "cell_type": "code",
      "source": [
        "dic = {'prodNome':'Perfume Abraço','valProd':150.00,\"dataCompra\":\"2023-07-15\",\"fabNome\":\"L'Occitane\"}\n",
        "dic"
      ],
      "metadata": {
        "colab": {
          "base_uri": "https://localhost:8080/"
        },
        "id": "tl5bKjU1ouxD",
        "outputId": "62870443-b51d-4ef2-f8a3-a19fba4a6174"
      },
      "execution_count": null,
      "outputs": [
        {
          "output_type": "execute_result",
          "data": {
            "text/plain": [
              "{'prodNome': 'Perfume Abraço',\n",
              " 'valProd': 150.0,\n",
              " 'dataCompra': '2023-07-15',\n",
              " 'fabNome': \"L'Occitane\"}"
            ]
          },
          "metadata": {},
          "execution_count": 77
        }
      ]
    },
    {
      "cell_type": "code",
      "source": [
        "import json\n"
      ],
      "metadata": {
        "id": "Poqnt0qcuZCE"
      },
      "execution_count": null,
      "outputs": []
    },
    {
      "cell_type": "code",
      "source": [
        "\n",
        "obj = json.dumps(dic, indent=2)\n"
      ],
      "metadata": {
        "id": "eM0IFVtcurRO"
      },
      "execution_count": null,
      "outputs": []
    },
    {
      "cell_type": "code",
      "source": [
        "with open(\"prod2.json\",'w') as escreve:\n",
        "  escreve.write(obj)"
      ],
      "metadata": {
        "id": "X8Idyf4jvDxl"
      },
      "execution_count": null,
      "outputs": []
    },
    {
      "cell_type": "code",
      "source": [],
      "metadata": {
        "id": "3GvN5PjBxnxM"
      },
      "execution_count": null,
      "outputs": []
    },
    {
      "cell_type": "code",
      "source": [
        "dic2= {\n",
        "   \"prod1\":{\n",
        "      'prodNome':'Perfume Flor de Carambola',\n",
        "      'valProd':200.00,\n",
        "      \"dataCompra\":\"2023-07-15\",\n",
        "      \"fabNome\":\"L'Occitane\"},\n",
        "   \"prod2\":{\n",
        "      'prodNome':'Perfume Dama da Noite',\n",
        "      'valProd':149.00,\n",
        "      \"dataCompra\":\"2023-07-15\",\n",
        "      \"fabNome\":\"L'Occitane\"},\n",
        "   \"prod3\":{\n",
        "      'prodNome':'Colonia Capim Limão',\n",
        "      'valProd':165.00,\n",
        "      \"dataCompra\":\"2023-07-15\",\n",
        "      \"fabNome\":\"L'Occitane\"}\n",
        "}"
      ],
      "metadata": {
        "id": "NUXGso8XwM4z"
      },
      "execution_count": null,
      "outputs": []
    },
    {
      "cell_type": "code",
      "source": [
        "obj1 = json.dumps(dic2, indent=2,ensure_ascii=False)"
      ],
      "metadata": {
        "id": "4_BGplWHxhwf"
      },
      "execution_count": null,
      "outputs": []
    },
    {
      "cell_type": "code",
      "source": [
        "obj2 = json.dumps(dic2, indent=4,ensure_ascii=False)"
      ],
      "metadata": {
        "id": "wXSlbGxnxjkr"
      },
      "execution_count": null,
      "outputs": []
    },
    {
      "cell_type": "code",
      "source": [
        "with open(\"produtos1.json\",'w') as escreve:\n",
        "  escreve.write(obj1)"
      ],
      "metadata": {
        "id": "3dFSYFXcxo9U"
      },
      "execution_count": null,
      "outputs": []
    },
    {
      "cell_type": "code",
      "source": [
        "with open(\"produtos2.json\",'w') as escreve:\n",
        "  escreve.write(obj2)"
      ],
      "metadata": {
        "id": "W0XS9SL5xsgd"
      },
      "execution_count": null,
      "outputs": []
    },
    {
      "cell_type": "code",
      "source": [
        "resp = \" \"\n",
        "with open(\"produtos1.json\",'r') as leia:\n",
        "  resp = json.load(leia)"
      ],
      "metadata": {
        "id": "rbqkc8AKzRwl"
      },
      "execution_count": null,
      "outputs": []
    },
    {
      "cell_type": "code",
      "source": [
        "resp['prod1']['prodNome']"
      ],
      "metadata": {
        "colab": {
          "base_uri": "https://localhost:8080/",
          "height": 36
        },
        "id": "MW9ZNzI9z6pQ",
        "outputId": "3c2c0795-7320-4938-95fd-4cf037fe1f5d"
      },
      "execution_count": null,
      "outputs": [
        {
          "output_type": "execute_result",
          "data": {
            "text/plain": [
              "'Perfume Flor de Carambola'"
            ],
            "application/vnd.google.colaboratory.intrinsic+json": {
              "type": "string"
            }
          },
          "metadata": {},
          "execution_count": 101
        }
      ]
    }
  ]
}